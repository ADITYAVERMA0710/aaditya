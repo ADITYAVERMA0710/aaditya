{
 "cells": [
  {
   "cell_type": "markdown",
   "id": "2f649a34",
   "metadata": {},
   "source": [
    "Q1 How can we store a single quote (‘) as a string 1n a variable?\n",
    "Ans:- Yes , A string variable using a single quote(' ')  and include double quotes (\" \")  character inside the string\n",
    "My_str = ' I write a code in single quotes and doulbe quotes '\n"
   ]
  },
  {
   "cell_type": "markdown",
   "id": "3cf1882e",
   "metadata": {},
   "source": [
    "Q2 Refer the below var1able:\n",
    "x = 'a'\n",
    "Here, is x a character type or string type variable? Support your answer with an explanation.\n",
    "Ans:- X is a string variable with a single character 'a'. Therefore, X is a string type variable, not a character type variable"
   ]
  },
  {
   "cell_type": "markdown",
   "id": "5362600a",
   "metadata": {},
   "source": [
    "Q3 Apply the following functions on this variable: 'Welcome to Python foundation  course'\n",
    "1. find()\n",
    "2. count()\n",
    "3. len()\n",
    "4. Concatenation\n",
    "Note: You can use your choice of parameters. But make sure it is correct.\n",
    "Ans:-\n",
    "a =\"Welcome to Python foundation  course\"\n",
    "a.find(\"e\")\n",
    "output:-  1\n",
    "\n",
    "a.count(\"e\")\n",
    "output:-3\n",
    "\n",
    "\n",
    "\n",
    "len(a)\n",
    "output:-  36\n",
    "\n",
    "\n",
    "str_1 = \"Hello\"\n",
    "str_2= \"World\"\n",
    "\n",
    "\n",
    "print(str_1+str_2)\n",
    "\n",
    "\n",
    "output:-  HelloWorld\n",
    "\n"
   ]
  },
  {
   "cell_type": "code",
   "execution_count": 28,
   "id": "962796df",
   "metadata": {},
   "outputs": [
    {
     "name": "stdout",
     "output_type": "stream",
     "text": [
      "HelloWorld\n"
     ]
    }
   ],
   "source": [
    "str_1 = \"Hello\"\n",
    "str_2= \"World\"\n",
    "\n",
    "\n",
    "print(str_1+str_2)"
   ]
  },
  {
   "cell_type": "markdown",
   "id": "21deef0d",
   "metadata": {},
   "source": [
    "Q4 For the variable: word = 'Panaji@12256'\n",
    "Calculate the follow1ng:\n",
    "(a) Total number of alphabets in lowercase\n",
    "(b) Total number of alphabets in uppercase\n",
    "(c) Total number of numeical  in string"
   ]
  },
  {
   "cell_type": "markdown",
   "id": "4fcaef2d",
   "metadata": {},
   "source": [
    "word = 'Panaji@12256'\n",
    "lowercase_count = 0\n",
    "uppercase_count = 0\n",
    "numeric_count = 0\n",
    "\n",
    "\n",
    "for character in word :\n",
    "    if character.islower():\n",
    "        lowercase_count +=1 \n",
    "    elif character.isupper():\n",
    "        uppercase_count +=1\n",
    "    elif character.isdigit():\n",
    "        numeric_count +=1\n",
    "print(\"Total number of alphabets in lowercase  \", lowercase_count)\n",
    "print(\"Total number of alphabets in uppercase  \",uppercase_count)\n",
    "print(\"Total number of numeical  in string \" ,numeric_count)\n",
    "\n",
    "\n",
    "\n",
    "Output:-\n",
    "Total number of alphabets in lowercase   5\n",
    "Total number of alphabets in uppercase   1\n",
    "Total number of numeical  in string  5"
   ]
  },
  {
   "cell_type": "markdown",
   "id": "10ca4d29",
   "metadata": {},
   "source": [
    "Q5. Write a code to store a numerical value inside a varable then convert it into string .\n",
    "\n",
    "number = 86\n",
    "type(number)\n",
    "\n",
    "s = str(number)\n",
    "print(type(s))\n",
    "\n",
    "output:-  <class 'str'>\n"
   ]
  }
 ],
 "metadata": {
  "kernelspec": {
   "display_name": "Python 3 (ipykernel)",
   "language": "python",
   "name": "python3"
  },
  "language_info": {
   "codemirror_mode": {
    "name": "ipython",
    "version": 3
   },
   "file_extension": ".py",
   "mimetype": "text/x-python",
   "name": "python",
   "nbconvert_exporter": "python",
   "pygments_lexer": "ipython3",
   "version": "3.9.13"
  }
 },
 "nbformat": 4,
 "nbformat_minor": 5
}
