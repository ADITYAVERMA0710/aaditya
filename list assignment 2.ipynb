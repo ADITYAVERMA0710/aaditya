{
 "cells": [
  {
   "cell_type": "markdown",
   "id": "1ec86f0b",
   "metadata": {},
   "source": [
    "Q1. What is the syntax for adding an element to a list in Python?\n",
    "\n",
    "lst = [23,45,\"pwskill\",\"inueron\",True,]\n",
    "lst.append(7+88j)\n",
    "lst\n",
    "\n",
    "lst.insert(1,False)\n",
    "lst\n",
    "\n",
    "output:- [23, False, 45, 'pwskill', 'inueron', True, (7+88j)]\n",
    "\n"
   ]
  },
  {
   "cell_type": "markdown",
   "id": "2ee409ba",
   "metadata": {},
   "source": [
    "Q2. What is the difference between remove() and pop() functions in Python?\n",
    "\n",
    "Ans:- Difference Between pop and remove in Python and the del Keyword.\n",
    "The pop() function removes the last element or the element based on the index given. \n",
    "remove() function removes the first occurrence of the specified element.\n",
    "\n",
    "lst = [23,45,\"pwskill\",\"inueron\",True,]\n",
    "lst.pop()\n",
    "output:- True\n",
    "\n",
    "\n",
    "lst.remove(\"inueron\")\n",
    "lst\n",
    "\n",
    "output:-[23, 45, 'pwskill']\n"
   ]
  },
  {
   "cell_type": "markdown",
   "id": "6464abbd",
   "metadata": {},
   "source": [
    "Q3. Write a Python code to sort a list in descending order.\n",
    "\n",
    "Ans:-\n",
    "lst = [44,23,65,78,99,100,1981]\n",
    "lst.sort(reverse=True)\n",
    "lst\n",
    "\n",
    "output:-[1981, 100, 99, 78, 65, 44, 23]\n"
   ]
  },
  {
   "cell_type": "markdown",
   "id": "f200949d",
   "metadata": {},
   "source": [
    "Q4. Write a Python code to count the number of occurrences of an element in a list.  \n",
    "\n",
    "l = [1,2,3,4,5,6,2,67,28,2]\n",
    "l.count(2)\n",
    "\n",
    "Output:- 3"
   ]
  },
  {
   "cell_type": "markdown",
   "id": "8cb39bed",
   "metadata": {},
   "source": [
    "Q5. Write a Python code to reverse a list.\n",
    "\n",
    "lst_1 = [10,200,300,4000,50000,600000]\n",
    "\n",
    "lst_1[::-1]    #this method is use to reverse list\n",
    "Output:- [600000, 50000, 4000, 300, 200, 10]\n",
    "\n",
    "\n",
    "lst_1 = [10,200,300,4000,50000,600000]\n",
    "lst_1.reverse() #This method is used to permanent reverse list\n",
    "lst_1\n",
    "\n",
    "Output:- [600000, 50000, 4000, 300, 200, 10]\n"
   ]
  },
  {
   "cell_type": "code",
   "execution_count": null,
   "id": "18e7aca2",
   "metadata": {},
   "outputs": [],
   "source": []
  },
  {
   "cell_type": "code",
   "execution_count": null,
   "id": "11a64273",
   "metadata": {},
   "outputs": [],
   "source": []
  }
 ],
 "metadata": {
  "kernelspec": {
   "display_name": "Python 3 (ipykernel)",
   "language": "python",
   "name": "python3"
  },
  "language_info": {
   "codemirror_mode": {
    "name": "ipython",
    "version": 3
   },
   "file_extension": ".py",
   "mimetype": "text/x-python",
   "name": "python",
   "nbconvert_exporter": "python",
   "pygments_lexer": "ipython3",
   "version": "3.9.13"
  }
 },
 "nbformat": 4,
 "nbformat_minor": 5
}
