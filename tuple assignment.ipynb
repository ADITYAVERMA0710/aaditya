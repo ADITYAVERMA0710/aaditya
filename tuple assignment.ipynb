{
 "cells": [
  {
   "cell_type": "markdown",
   "id": "a536273a",
   "metadata": {},
   "source": [
    "Q1. What is a tuple in Python?\n",
    "Ans:-The comma-separated items can be combined into a tuple in Python by placing them all inside the parenthesis (). \n",
    "The tuple's  are  immutable and ordered. It supports multiple values and any number of element .\n",
    "You may even generate a tuple that is empty."
   ]
  },
  {
   "cell_type": "markdown",
   "id": "8fac83ca",
   "metadata": {},
   "source": [
    "Q2. How do you create a tuple in Python?\n",
    "Ans:- A tuple  can be created by enclosing all the comma-separated elements inside the parenthesis ()\n",
    "    \n",
    "    tup = (1,20,4.5,True,\"tuple\")\n",
    "    type(tup)\n",
    "    \n",
    "    output:- tuple"
   ]
  },
  {
   "cell_type": "markdown",
   "id": "e4ed28a7",
   "metadata": {},
   "source": [
    "Q3. What is the difference between a tuple and a list in Python?\n",
    "\n",
    "Ans:- Tuple are immutable and order.List are mutable and changes is possiable\n",
    "    Iteration in lists is time consuming.Iteration in tuples is faster.\n",
    "    Lists consume more memory.Tuples consume lesser memory\n",
    "    syntax of tuple is () and syntax of list is[]"
   ]
  },
  {
   "cell_type": "markdown",
   "id": "5ee0f4a1",
   "metadata": {},
   "source": [
    "Q4. Can a tuple be changed in Python?\n",
    "Ans:- A tuple's  values cannot be changed after it has been generated. Tuples are unchangeable, or immutable. "
   ]
  },
  {
   "cell_type": "markdown",
   "id": "8d45d3f6",
   "metadata": {},
   "source": [
    "Q5. How do you access elements in a tuple?\n",
    "\n",
    "Ans:-\n",
    "tup = (\"apple\", \"banana\", \"cherry\")\n",
    "print(tup[1])\n",
    "\n",
    "output-banana\n"
   ]
  },
  {
   "cell_type": "markdown",
   "id": "b13eee1a",
   "metadata": {},
   "source": [
    "Q6. How do you unpack a tuple in Python?\n",
    "Ans:- In python tuples can be unpacked using a function in function tuple is passed and in function, \n",
    "values are unpacked into a normal variable\n",
    "\n",
    "\n",
    "student = (\"ram\",\"shyam\",\"kapil\",\"arjun\",\"gopal\")\n",
    "student1,*student2,student3 = student\n",
    "print(\n",
    "f\"\"\"\n",
    "{student1}\n",
    "{student2}\n",
    "{student3}\n",
    "\"\"\"\n",
    ")\n",
    "\n",
    "output:-\n",
    "ram\n",
    "['shyam', 'kapil', 'arjun']\n",
    "gopal\n"
   ]
  },
  {
   "cell_type": "code",
   "execution_count": null,
   "id": "8b3a1966",
   "metadata": {},
   "outputs": [],
   "source": []
  },
  {
   "cell_type": "code",
   "execution_count": null,
   "id": "2e742473",
   "metadata": {},
   "outputs": [],
   "source": []
  }
 ],
 "metadata": {
  "kernelspec": {
   "display_name": "Python 3 (ipykernel)",
   "language": "python",
   "name": "python3"
  },
  "language_info": {
   "codemirror_mode": {
    "name": "ipython",
    "version": 3
   },
   "file_extension": ".py",
   "mimetype": "text/x-python",
   "name": "python",
   "nbconvert_exporter": "python",
   "pygments_lexer": "ipython3",
   "version": "3.9.13"
  }
 },
 "nbformat": 4,
 "nbformat_minor": 5
}
